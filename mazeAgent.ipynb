{
 "metadata": {
  "language_info": {
   "codemirror_mode": {
    "name": "ipython",
    "version": 3
   },
   "file_extension": ".py",
   "mimetype": "text/x-python",
   "name": "python",
   "nbconvert_exporter": "python",
   "pygments_lexer": "ipython3",
   "version": "3.6.8"
  },
  "orig_nbformat": 2,
  "kernelspec": {
   "name": "python368jvsc74a57bd0f3907eace6f052eb013976c6c85ca4eed3eb79ab6403c290a85e7d0d6214134d",
   "display_name": "Python 3.6.8 64-bit ('base': conda)"
  }
 },
 "nbformat": 4,
 "nbformat_minor": 2,
 "cells": [
  {
   "cell_type": "code",
   "execution_count": null,
   "metadata": {},
   "outputs": [],
   "source": [
    "from mazeAgentUtils import * \n",
    "%load_ext autoreload\n",
    "%autoreload 2\n",
    "\n"
   ]
  },
  {
   "cell_type": "code",
   "execution_count": null,
   "metadata": {
    "tags": []
   },
   "outputs": [],
   "source": [
    "agent = MazeAgent(dx=0.02,mazeType='twoRoomPassage',policy='raudies',dt=0.1)\n",
    "\n",
    "#agent.walls['boundary'] = np.array([[[0.45,0.2],[0.45,0.8]]])\n",
    "#agent.pos=np.array([1/np.pi, 1/np.e])\n",
    "agent.runRat(trainTime=200)\n"
   ]
  },
  {
   "cell_type": "code",
   "execution_count": null,
   "metadata": {},
   "outputs": [],
   "source": [
    "fig, ax = agent.plotMovementHistory()\n",
    "saveFigure(fig)"
   ]
  },
  {
   "cell_type": "code",
   "execution_count": null,
   "metadata": {},
   "outputs": [],
   "source": [
    "# fig, ax = agent.plotMovementHistory()\n",
    "fig, ax = agent.plotPlaceField(58)\n",
    "saveFigure(fig,'1%s'%i)\n",
    "fig, ax = agent.plotPlaceField(298 + 15*56)\n",
    "saveFigure(fig,'2%s'%i)\n",
    "\n",
    "fig, ax = agent.plotGridField(8)\n",
    "saveFigure(fig,'c%s'%i)\n",
    "fig, ax = agent.plotGridField(16)\n",
    "saveFigure(fig,'d%s'%i)\n",
    "fig, ax = agent.plotGridField(32)\n",
    "saveFigure(fig,'e%s'%i)\n",
    "fig, ax = agent.plotGridField(64)\n",
    "saveFigure(fig,'f%s'%i)\n"
   ]
  },
  {
   "cell_type": "code",
   "execution_count": null,
   "metadata": {},
   "outputs": [],
   "source": [
    "ratio = np.pi/2.8\n",
    "rs=1\n",
    "agent.extent = (0,ratio*rs,0,rs)\n",
    "\n"
   ]
  },
  {
   "cell_type": "code",
   "execution_count": null,
   "metadata": {},
   "outputs": [],
   "source": [
    "import pickle\n",
    "with open('/tmp/data.pkl', 'rb') as f:\n",
    "        (M, prevState, currentState, gamma,  alpha) = pickle.load(f)\n",
    "        %time delta = prevState + gamma*(M @ currentState) - (M @ prevState)"
   ]
  },
  {
   "cell_type": "code",
   "execution_count": null,
   "metadata": {},
   "outputs": [],
   "source": [
    "%time delta = prevState + gamma*(M @ currentState) - (M @ prevState)"
   ]
  },
  {
   "cell_type": "code",
   "execution_count": null,
   "metadata": {},
   "outputs": [],
   "source": [
    "agent.plotStateVector(pos=[0.99,0.41])"
   ]
  },
  {
   "cell_type": "code",
   "execution_count": null,
   "metadata": {},
   "outputs": [],
   "source": []
  },
  {
   "cell_type": "code",
   "execution_count": null,
   "metadata": {},
   "outputs": [],
   "source": [
    "agent = MazeAgent(dt=0.05, dx=0.05, v=0.1, numRooms=1, roomSize=1, policy='randomWalk')\n",
    "agent.alpha = 0.3\n",
    "agent.gamma = 0.999\n",
    "agent.dx = 0.1\n",
    "agent.walls['barrier'] = np.array([[[0.3,0.7],[0.7,0.3]]])\n",
    "for i in tqdm(range(500000)):\n",
    "    agent.movementPolicyUpdate()\n",
    "    agent.TDLearningStep()"
   ]
  },
  {
   "cell_type": "code",
   "execution_count": null,
   "metadata": {},
   "outputs": [],
   "source": [
    "for i,n in enumerate([2,4,8,16,32,64,128,256]):\n",
    "    fig, ax = agent.plotGridField(n)\n",
    "    ax.set_title(\"%s\"%n)\n",
    "    saveFigure(fig,\"%g\"%n)"
   ]
  },
  {
   "cell_type": "code",
   "execution_count": null,
   "metadata": {
    "tags": []
   },
   "outputs": [],
   "source": [
    "agent = MazeAgent(dt=0.05, dx=0.05, v=0.1, numRooms=2, roomSize=1, policy='randomWalk')\n",
    "agent.doorsClosed = True\n",
    "\n",
    "agent.pos = np.array([0.2,0.2])\n",
    "for i in tqdm(range(2000)):\n",
    "    agent.movementPolicyUpdate()\n",
    "fig, ax = agent.plotHistory()\n",
    "saveFigure(fig)\n",
    "\n",
    "agent.pos = np.array([1.2,0.2])\n",
    "for i in tqdm(range(2000)):\n",
    "    agent.movementPolicyUpdate()\n",
    "fig, ax = agent.plotHistory()\n",
    "saveFigure(fig)\n",
    "\n",
    "agent.doorsClosed = False\n",
    "for i in tqdm(range(2000)):\n",
    "    agent.movementPolicyUpdate()\n",
    "\n",
    "color = ['C0']*4001 + ['C3']*2000\n",
    "fig, ax = agent.plotHistory(color)\n",
    "saveFigure(fig)"
   ]
  },
  {
   "cell_type": "code",
   "execution_count": null,
   "metadata": {},
   "outputs": [],
   "source": [
    "agent.stateVec_asMatrix\n"
   ]
  },
  {
   "cell_type": "code",
   "execution_count": null,
   "metadata": {},
   "outputs": [],
   "source": [
    "A  = np.random.randn(5000,5000)\n",
    "b = np.random.randn(5000)\n",
    "%time A @ b + A @ b\n"
   ]
  },
  {
   "cell_type": "code",
   "execution_count": null,
   "metadata": {},
   "outputs": [],
   "source": [
    "import numpy as np"
   ]
  },
  {
   "cell_type": "code",
   "execution_count": null,
   "metadata": {},
   "outputs": [],
   "source": [
    "np.__config__.show()"
   ]
  },
  {
   "cell_type": "code",
   "execution_count": null,
   "metadata": {},
   "outputs": [],
   "source": [
    "a = np.random.randn(5000,1)\n",
    "b = np.random.randn(5000,1)\n",
    "T0 = time.time()\n",
    "c = a @ b.T\n",
    "T1 = time.time()\n",
    "print(T1-T0)\n"
   ]
  },
  {
   "cell_type": "code",
   "execution_count": null,
   "metadata": {},
   "outputs": [],
   "source": []
  }
 ]
}