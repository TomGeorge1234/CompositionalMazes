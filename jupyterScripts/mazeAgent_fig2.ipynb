{
 "metadata": {
  "language_info": {
   "codemirror_mode": {
    "name": "ipython",
    "version": 3
   },
   "file_extension": ".py",
   "mimetype": "text/x-python",
   "name": "python",
   "nbconvert_exporter": "python",
   "pygments_lexer": "ipython3",
   "version": "3.6.8"
  },
  "orig_nbformat": 2,
  "kernelspec": {
   "name": "python3",
   "display_name": "Python 3.6.8 64-bit ('base': conda)"
  },
  "interpreter": {
   "hash": "f3907eace6f052eb013976c6c85ca4eed3eb79ab6403c290a85e7d0d6214134d"
  }
 },
 "nbformat": 4,
 "nbformat_minor": 2,
 "cells": [
  {
   "cell_type": "code",
   "execution_count": 13,
   "source": [
    "import sys \n",
    "sys.path.insert(-1,\"../\")\n",
    "from mazeAgentUtils import *\n",
    "\n",
    "%load_ext autoreload\n",
    "%autoreload 2\n",
    "\n",
    "%matplotlib inline"
   ],
   "outputs": [
    {
     "output_type": "stream",
     "name": "stdout",
     "text": [
      "The autoreload extension is already loaded. To reload it, use:\n",
      "  %reload_ext autoreload\n"
     ]
    }
   ],
   "metadata": {}
  },
  {
   "cell_type": "code",
   "execution_count": 18,
   "source": [
    "N=50\n",
    "xcen = np.linspace(0,5,N+1)[:-1]\n",
    "xcen += (xcen[1] - xcen[0]) / 2\n",
    "ycen = np.array([0.1]*N)\n",
    "centres = np.vstack((xcen,ycen)).T\n",
    "\n",
    "\n",
    "params = { \n",
    "          'mazeType'           : 'loop',  #type of maze, define in getMaze() function\n",
    "          'stateType'          : 'bump', #feature on which to TD learn (onehot, gaussian, gaussianCS, fourier, circles)\n",
    "          'movementPolicy'     : 'windowsScreensaver',  #movement policy (raudies, random walk, windows screensaver)\n",
    "          'roomSize'           : 5,          #maze size scaling parameter, metres\n",
    "          'dt'                 : 0.005,       #simulation time disretisation \n",
    "          'dx'                 : 0.01,       #space discretisation (for plotting, movement is continuous)\n",
    "          'tau'                : 4,          #TD decay time, seconds\n",
    "          'TDdx'               : 0.01,       #rough distance between TD learning updates, metres \n",
    "          'alpha'              : 0.01,       #TD learning rate \n",
    "          'nCells'             : 50,       #how many features to use\n",
    "          'centres'            : centres,       #array of receptive field positions. Overwrites nCells\n",
    "          'speedScale'         : 0.16,       #movement speed scale, metres/second\n",
    "          'rotSpeedScale'      : 2*np.pi,       #rotational speed scale, radians/second\n",
    "          'initPos'            : None,       #initial position [x0, y0], metres\n",
    "          'initDir'            : None,       #initial direction, unit vector\n",
    "          'sigma'              : 1,        #feature cell width scale, relevant for  gaussin, gaussianCS, circles\n",
    "          'doorsClosed'        : False,       #whether doors are opened or closed in multicompartment maze\n",
    "          'successorFeatureNorm':100                 \n",
    "}\n",
    "\n",
    "agent =  MazeAgent(params)\n",
    "agent.pos, agent.dir = np.array([0.101,0.1]), np.array([1,0])\n",
    "agent.runRat(10)"
   ],
   "outputs": [
    {
     "output_type": "stream",
     "name": "stdout",
     "text": [
      "Setting parameters\n",
      "Initialising\n",
      "   making state/history dataframes\n",
      "   initialising velocity, position and direction\n",
      "   setting time/run counters\n",
      "   making the maze walls\n",
      "   discretising position for later plotting\n",
      "   handling undefined parameters\n",
      "   initialising basis features for learning\n",
      "   calculating state vector at all discretised positions\n",
      "   initialising STDP weight matrix and traces\n"
     ]
    },
    {
     "output_type": "display_data",
     "data": {
      "text/plain": [
       "  0%|          | 0/120000 [00:00<?, ?it/s]"
      ],
      "application/vnd.jupyter.widget-view+json": {
       "version_major": 2,
       "version_minor": 0,
       "model_id": "bb5cda53cd494e088a8b941983a1d699"
      }
     },
     "metadata": {}
    },
    {
     "output_type": "stream",
     "name": "stderr",
     "text": [
      "../mazeAgentUtils.py:778: RuntimeWarning: overflow encountered in exp\n",
      "  state[distance<self.sigmas] += np.e * np.exp(-1/(1-(distance/self.sigmas)**2))[distance<self.sigmas]\n"
     ]
    },
    {
     "output_type": "stream",
     "name": "stdout",
     "text": [
      "Calculating place and grid cells\n"
     ]
    },
    {
     "output_type": "display_data",
     "data": {
      "text/plain": [
       "<Figure size 144x72 with 1 Axes>"
      ],
      "image/png": "[encoded data removed]"
     },
     "metadata": {
      "needs_background": "dark"
     }
    }
   ],
   "metadata": {
    "tags": []
   }
  },
  {
   "cell_type": "code",
   "execution_count": 20,
   "source": [
    "%matplotlib inline\n",
    "plotter = Visualiser(agent)\n",
    "plotter.plotTrajectory(starttime=0, endtime=agent.t/60, skiprate=100)\n",
    "plotter.plotM()\n",
    "plotter.plotM(STDP=True)\n",
    "M_copy = plotter.plotMAveraged()\n",
    "plotter.plotFeatureCells(centresOnly=True)\n",
    "# plt.imshow(M_copy)"
   ],
   "outputs": [
    {
     "output_type": "execute_result",
     "data": {
      "text/plain": [
       "(<Figure size 1440x57.6 with 1 Axes>,\n",
       " <matplotlib.axes._subplots.AxesSubplot at 0x7f91232822b0>)"
      ]
     },
     "metadata": {},
     "execution_count": 20
    },
    {
     "output_type": "display_data",
     "data": {
      "text/plain": [
       "<Figure size 1440x57.6 with 1 Axes>"
      ],
      "image/png": "[encoded data removed]"
     },
     "metadata": {
      "needs_background": "dark"
     }
    },
    {
     "output_type": "display_data",
     "data": {
      "text/plain": [
       "<Figure size 144x144 with 2 Axes>"
      ],
      "image/png": "[encoded data removed]"
     },
     "metadata": {
      "needs_background": "dark"
     }
    },
    {
     "output_type": "display_data",
     "data": {
      "text/plain": [
       "<Figure size 144x144 with 2 Axes>"
      ],
      "image/png": "[encoded data removed]"
     },
     "metadata": {
      "needs_background": "dark"
     }
    },
    {
     "output_type": "display_data",
     "data": {
      "text/plain": [
       "<Figure size 144x72 with 1 Axes>"
      ],
      "image/png": "[encoded data removed]"
     },
     "metadata": {
      "needs_background": "dark"
     }
    },
    {
     "output_type": "display_data",
     "data": {
      "text/plain": [
       "<Figure size 1440x57.6 with 1 Axes>"
      ],
      "image/png": "[encoded data removed]"
     },
     "metadata": {
      "needs_background": "dark"
     }
    }
   ],
   "metadata": {}
  },
  {
   "cell_type": "code",
   "execution_count": null,
   "source": [
    "plt.imshow(M_copy)"
   ],
   "outputs": [
    {
     "output_type": "execute_result",
     "data": {
      "text/plain": [
       "<matplotlib.image.AxesImage at 0x7ffddc4c8b00>"
      ]
     },
     "metadata": {},
     "execution_count": 42
    },
    {
     "output_type": "display_data",
     "data": {
      "text/plain": [
       "<Figure size 2400x1650 with 1 Axes>"
      ],
      "image/png": "[encoded data removed]"
     },
     "metadata": {}
    }
   ],
   "metadata": {}
  },
  {
   "cell_type": "code",
   "execution_count": null,
   "source": [
    "agent.pos = np.array([0,0.1])\n",
    "agent.dir = np.array([1,0])\n",
    "# agent.runRat(trainTime=60,STDPLearn=True,TDSRLearn=False,saveEvery=1)\n",
    "\n",
    "plotter = Visualiser(agent)\n",
    "plotter.plotM(STDP=True,colorbar=True)\n",
    "plotter.plotPlaceField(hist_id=-1,number=15,STDP=False)\n",
    "plotter.plotPlaceField(hist_id=-1,number=15,STDP=True)\n",
    "plotter.plotSTDPFiringRates(starttime=1,endtime=1+1/60)"
   ],
   "outputs": [],
   "metadata": {
    "tags": []
   }
  },
  {
   "cell_type": "code",
   "execution_count": null,
   "source": [
    "w = agent.W.T.copy()\n",
    "for i in range(50):\n",
    "    w[i,:] = np.roll(w[i,:],-i+25)\n",
    "plotter.plotM(M=agent.W.T)\n",
    "plotter.plotM(M=w)\n",
    "mean = np.mean(w,axis=0)\n",
    "std = np.std(w,axis=0)\n",
    "fig, ax = plt.subplots(figsize=(2,1))\n",
    "x = xcen - 2.55\n",
    "ax.plot(x,mean)\n",
    "ax.fill_between(x,mean + std,mean - std, alpha=0.5)\n",
    "ax.set_xlabel('Distance from centre cell')\n",
    "ax.set_ylabel('$M_{ij}$ strength')\n",
    "saveFigure(fig,'w_cross',transparent=False)"
   ],
   "outputs": [],
   "metadata": {}
  },
  {
   "cell_type": "code",
   "execution_count": null,
   "source": [
    "#TD SR \n",
    "roomSize = 5\n",
    "N=roomSize*10\n",
    "xcen = np.linspace(0,roomSize,N+1)[:-1]\n",
    "xcen += (xcen[1] - xcen[0]) / 2\n",
    "ycen = np.array([0.1]*N)\n",
    "centres = np.vstack((xcen,ycen)).T\n",
    "\n",
    "params = { \n",
    "          'mazeType'            : 'loop',  #type of maze, define in getMaze() function\n",
    "          'stateType'           : 'gaussian', #feature on which to TD learn (onehot, gaussian, gaussianCS, fourier, circles)\n",
    "          'movementPolicy'      : 'windowsScreensaver',  #movement policy (raudies, random walk, windows screensaver)\n",
    "          'roomSize'            : roomSize,          #maze size scaling parameter, metres\n",
    "          'dt'                  : 0.1,       #simulation time disretisation \n",
    "          'dx'                  : 0.01,       #space discretisation (for plotting, movement is continuous)\n",
    "          'tau'                 : 5,          #TD decay time, seconds\n",
    "          'TDdx'                : 0.001,       #rough distance between TD learning updates, metres \n",
    "          'alpha'               : 0.01,       #TD learning rate \n",
    "          'nCells'              : N,       #how many features to use\n",
    "          'cellFiringRate'      : 10,         #peak firing rate of a cell (middle of place field, preferred theta phase)\n",
    "          'centres'             : centres,       #array of receptive field positions or onehotd. Overwrites nCells\n",
    "          'speedScale'          : 0.16,       #movement speed scale, metres/second\n",
    "          'rotSpeedScale'       : 0.1,       #rotational speed scale, radians/second\n",
    "          'initPos'             : None,       #initial position [x0, y0], metres\n",
    "          'initDir'             : None,       #initial direction, unit vector\n",
    "          'sigma'               : 0.6,        #feature cell width scale, relevant for  gaussin, gaussianCS, circles\n",
    "          'doorsClosed'         : False,       #whether doors are opened or closed in multicompartment maze\n",
    "          'successorFeatureNorm': 1/10\n",
    "}\n",
    "\n",
    "\n",
    "agent_TD =  MazeAgent(params)\n",
    "plotter = Visualiser(agent_TD)\n",
    "agent_TD.toggleDoors(params['doorsClosed'])\n",
    "plotter.plotFeatureCells()\n",
    "# for i in [1,15,13]:\n",
    "#     plotter.plotReceptiveField(i)\n",
    "#     plotter.plotPlaceField(number=i)\n",
    "agent_TD.pos = np.array([0.01,0.1])\n",
    "agent_TD.dir = np.array([1,0])\n"
   ],
   "outputs": [],
   "metadata": {
    "tags": []
   }
  },
  {
   "cell_type": "code",
   "execution_count": null,
   "source": [
    "agent_TD.runRat(trainTime=60,STDPLearn=False,TDSRLearn=True,saveEvery=None,TDlearnorder='everystep')\n",
    "plotter = Visualiser(agent_TD)\n",
    "# plotter.plotM(M=np.maximum(0,agent_TD.M),STDP=False)\n",
    "plotter.plotM(M=agent_TD.M,STDP=False)\n",
    "for i in [1,15,30]:\n",
    "    plotter.plotPlaceField(number=i,hist_id=0)\n",
    "    plotter.plotPlaceField(number=i)"
   ],
   "outputs": [],
   "metadata": {
    "tags": []
   }
  },
  {
   "cell_type": "code",
   "execution_count": null,
   "source": [
    "agent_TD.pos"
   ],
   "outputs": [],
   "metadata": {}
  },
  {
   "cell_type": "code",
   "execution_count": null,
   "source": [
    "scipy.special.erf(1)"
   ],
   "outputs": [],
   "metadata": {}
  },
  {
   "cell_type": "code",
   "execution_count": null,
   "source": [
    "#linear regression solution\n",
    "left, right = -5,5\n",
    "N_data = 10000\n",
    "N_centres = 100\n",
    "sigma = 1.5\n",
    "tau = 10\n",
    "v = 0.16\n",
    "lam = 0.2\n",
    "\n",
    "x = np.linspace(left,right,N_data)\n",
    "centres = np.linspace(left,right,N_centres)\n",
    "\n",
    "X = np.zeros((N_data,N_centres))\n",
    "Y = np.zeros((N_data,1))\n",
    "\n",
    "def analytic_solution(x,sigma=1,tau=10,v=0.16):\n",
    "    z = (x/(np.sqrt(2)*sigma)) + sigma/(2*v*tau)\n",
    "    return (1 - scipy.special.erf(z)) * np.exp(x/(v*tau))\n",
    "\n",
    "def gaussian(x,centres,sigma=0.5):\n",
    "    devs = (centres - x)**2\n",
    "    return np.exp(-devs / (2*(sigma**2)))\n",
    "\n",
    "for (i,x_) in enumerate(x):\n",
    "    X[i,:] = gaussian(x_,centres,sigma)\n",
    "    Y[i] = analytic_solution(x_,sigma,tau,v)\n",
    "\n",
    "W = np.matmul(np.linalg.inv(np.matmul(X.T,X) + lam*np.identity(N_centres)),np.matmul(X.T,Y))\n",
    "\n",
    "\n",
    "def reproduced_analytic(x,W,centres):\n",
    "    y = 0\n",
    "    for (i,w) in enumerate(W):\n",
    "        y += w * gaussian(x,centres[i],sigma)\n",
    "    return y\n",
    "\n",
    "y_reproduced = np.zeros(N_data)\n",
    "y_true = Y[:,0]\n",
    "for i in range(len(y_reproduced)):\n",
    "    y_reproduced[i] = reproduced_analytic(x[i],W,centres)\n",
    "\n",
    "\n",
    "fig,ax = plt.subplots(2,1,figsize=(2,2))\n",
    "ax[0].plot(centres,W)\n",
    "ax[0].set_xlabel('Basis cell centre location')\n",
    "ax[0].set_ylabel('Basis cell weight, $M_{ij}$')\n",
    "ax[0].set_title('N basis cells = %g' %N_centres)\n",
    "\n",
    "ax[1].plot(x,y_reproduced,C='C1',label='Reproduced')\n",
    "ax[1].plot(x,y_true,C='C2',label='True')\n",
    "ax[1].set_xlabel('x')\n",
    "ax[1].set_title('Successor feature')\n",
    "ax[1].legend()\n",
    "\n",
    "saveFigure(fig,'truevsreproduced',transparent=False)\n"
   ],
   "outputs": [],
   "metadata": {}
  },
  {
   "cell_type": "code",
   "execution_count": null,
   "source": [
    "np.linalg.inv(a)"
   ],
   "outputs": [],
   "metadata": {}
  },
  {
   "cell_type": "code",
   "execution_count": null,
   "source": [
    "fig, ax = plt.subplots(figsize=(2,1))\n",
    "ax.plot(agent_TD.M[25,:])\n",
    "saveFigure(fig,'Mcross')"
   ],
   "outputs": [],
   "metadata": {}
  },
  {
   "cell_type": "code",
   "execution_count": null,
   "source": [],
   "outputs": [],
   "metadata": {}
  }
 ]
}