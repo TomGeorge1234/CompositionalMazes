{
 "cells": [
  {
   "cell_type": "markdown",
   "metadata": {},
   "source": [
    "# 0. Import dependencies"
   ]
  },
  {
   "cell_type": "code",
   "execution_count": null,
   "metadata": {},
   "outputs": [],
   "source": [
    "import sys \n",
    "sys.path.insert(-1,\"../\")\n",
    "sys.path.insert(-1,\"/Users/tomgeorge/Documents/figureMaking/\")\n",
    "from mazeAgentUtils import *\n",
    "from plotFormatting import *\n",
    "%load_ext autoreload\n",
    "%autoreload 2\n",
    "%matplotlib inline"
   ]
  },
  {
   "cell_type": "markdown",
   "metadata": {},
   "source": [
    "# 1.0 Open loop maze\n",
    "\n",
    "## 1.1 Make agent "
   ]
  },
  {
   "cell_type": "code",
   "execution_count": null,
   "metadata": {
    "tags": []
   },
   "outputs": [],
   "source": [
    "N=50\n",
    "xcen = np.linspace(0,5,N+1)[:-1]\n",
    "xcen += (xcen[1] - xcen[0]) / 2\n",
    "ycen = np.array([0.1]*N)\n",
    "centres = np.vstack((xcen,ycen)).T\n",
    "\n",
    "#Default parameters for MazeAgent \n",
    "params = { \n",
    "\n",
    "          #Maze params \n",
    "          'mazeType'            : 'loop',  #type of maze, define in getMaze() function\n",
    "          'stateType'           : 'gaussianThreshold', #feature on which to TD learn (onehot, gaussian, gaussianCS, circles, bump)\n",
    "          'movementPolicy'      : 'windowsScreensaver',  #movement policy (raudies, random walk, windows screensaver)\n",
    "          'roomSize'            : 5,          #maze size scaling parameter, metres\n",
    "          'dt'                  : 0.001,       #simulation time disretisation \n",
    "          'dx'                  : 0.01,       #space discretisation (for plotting, movement is continuous)\n",
    "          'centres'             : centres,       #array of receptive field positions. Overwrites nCells\n",
    "          'sigma'               : 1,          #basis cell width scale (irrelevant for onehots)\n",
    "          'doorsClosed'         : False,       #whether doors are opened or closed in multicompartment maze\n",
    "\n",
    "          #TD params \n",
    "          'tau'                 : 4,          #TD decay time, seconds\n",
    "          'TDdx'                : 0.01,       #rough distance between TD learning updates, metres \n",
    "          'alpha'               : 0.01,       #TD learning rate \n",
    "          'successorFeatureNorm': 100,        #linear scaling on successor feature definition found to improve learning stability\n",
    "          'TDreg'               : 0.01,       #L2 regularisation \n",
    "          \n",
    "          #STDP params\n",
    "          'peakFiringRate'      : 5,          #peak firing rate of a cell (middle of place field, preferred theta phase)\n",
    "          'tau_STDP_plus'       : 20e-3,      #pre trace decay time\n",
    "          'tau_STDP_minus'      : 40e-3,      #post trace decay time\n",
    "          'a_STDP'              : -0.4,       #pre-before-post potentiation factor (post-before-pre = 1) \n",
    "          'eta'                 : 0.05,       #STDP learning rate\n",
    "          'baselineFiringRate'  : 0,          #baseline firing rate for cells \n",
    "\n",
    "\n",
    "          #Theta precession params\n",
    "          'thetaFreq'           : 10,         #theta frequency\n",
    "          'precessFraction'     : 0.5,        #fraction of 2pi the prefered phase moves through\n",
    "          'kappa'               : 1,          # von mises spread parameter\n",
    "          }"
   ]
  },
  {
   "cell_type": "code",
   "execution_count": null,
   "metadata": {},
   "outputs": [],
   "source": [
    "agent =  MazeAgent(params)"
   ]
  },
  {
   "cell_type": "markdown",
   "metadata": {},
   "source": [
    "## 1.1.1 ...or load agent?"
   ]
  },
  {
   "cell_type": "code",
   "execution_count": null,
   "metadata": {},
   "outputs": [],
   "source": [
    "agent = MazeAgent(loadFromFileCalled=\"openLoop\")"
   ]
  },
  {
   "cell_type": "markdown",
   "metadata": {},
   "source": [
    "## 1.2 Run rat "
   ]
  },
  {
   "cell_type": "code",
   "execution_count": null,
   "metadata": {},
   "outputs": [],
   "source": [
    "agent.runRat(trainTime=1,saveEvery=0.5)"
   ]
  },
  {
   "cell_type": "markdown",
   "metadata": {},
   "source": [
    "## 1.2.1 ...and save agent?"
   ]
  },
  {
   "cell_type": "code",
   "execution_count": null,
   "metadata": {},
   "outputs": [],
   "source": [
    "agent.saveToFile(name=\"openLoop\")"
   ]
  },
  {
   "cell_type": "markdown",
   "metadata": {},
   "source": [
    "## 1.3 Plot all required figures"
   ]
  },
  {
   "cell_type": "code",
   "execution_count": null,
   "metadata": {},
   "outputs": [],
   "source": [
    "#FIGURE 2A\n",
    "plotter = Visualiser(agent)\n",
    "fig, ax = plotter.plotFeatureCells(centresOnly=True, textlabel=False,onepink=True)\n",
    "saveFigure(fig,'openloop',specialLocation=\"../figures/paperFigures/figure2/2A.svg\")\n",
    "\n",
    "\n",
    "#FIGURE 2B\n",
    "fig, ax = plotter.plotM(whichM='W',colorbar=False,time=30)\n",
    "ax.axis('on')\n",
    "for spine in ax.spines.values():\n",
    "    spine.set_color('C1')\n",
    "    spine.set_linewidth(2)\n",
    "ax.set_xticks([])\n",
    "ax.set_yticks([])\n",
    "saveFigure(fig,'W',specialLocation='../figures/paperFigures/figure2/2B.svg')\n",
    "\n",
    "#FIGURE 2C\n",
    "fig, ax, cb, cax = plotter.plotM(whichM='M')\n",
    "ax.axis('on')\n",
    "for spine in ax.spines.values():\n",
    "    spine.set_color('C0')\n",
    "    spine.set_linewidth(2)\n",
    "cb.set_ticks([0])\n",
    "cb.set_ticklabels([\"\"])\n",
    "cax.tick_params(color='darkgrey',width=2)\n",
    "ax.set_xticks([])\n",
    "ax.set_yticks([])\n",
    "saveFigure(fig,'M',specialLocation='../figures/paperFigures/figure2/2C.svg')\n",
    "\n",
    "# #FIGURE 2Ci\n",
    "# fig, ax = plotter.plotM(whichM='W_notheta',colorbar=False,time=30)\n",
    "# ax.axis('on')\n",
    "# for spine in ax.spines.values():\n",
    "#     spine.set_color('C1')\n",
    "#     spine.set_linewidth(2)\n",
    "#     spine.set_linestyle((0,(0.5,2)))\n",
    "# ax.set_xticks([])\n",
    "# ax.set_yticks([])\n",
    "# saveFigure(fig,'W_notheta')\n",
    "\n",
    "#FIGURE 2D\n",
    "fig, ax = plotter.plotMAveraged(time=30)\n",
    "saveFigure(fig,'Mav',specialLocation='../figures/paperFigures/figure2/2D.svg')\n",
    "\n",
    "#FIGURE 2E\n",
    "fig, ax = plotter.plotMetrics()\n",
    "saveFigure(fig,'Mvarerr',specialLocation='../figures/paperFigures/figure2/2E.svg')\n",
    "\n",
    "\n",
    "#FIGURE 3A\n",
    "N = 25\n",
    "\n",
    "fig, ax = plotter.plotReceptiveField(number=N)\n",
    "saveFigure(fig,'openLoopStart',specialLocation=\"../figures/paperFigures/figure3/3Ai.svg\")\n",
    "\n",
    "fig, ax = plotter.plotPlaceField(time=10, number=N, STDP=True,threshold=0)\n",
    "saveFigure(fig,'openLoopEnd',specialLocation=\"../figures/paperFigures/figure3/3Aii.svg\")\n",
    "\n",
    "placeFields = agent.getPlaceFields(M=agent.W,threshold=0)\n",
    "placeFields_M = agent.getPlaceFields(M=agent.M,threshold=0)\n",
    "x = agent.discreteCoords[10,:,0]\n",
    "skew_PF, skew_PFM, skew_RF, shift, shiftM, R2list = [], [], [], [], [], []\n",
    "\n",
    "for n in range(0,50):\n",
    "    peak_pf, skew_pf = getPeak(x,placeFields[n][10,:]), getSkewness(placeFields[n][10,:],circular=True)\n",
    "    peak_pfM, skew_pfM = getPeak(x,placeFields_M[n][10,:]), getSkewness(placeFields_M[n][10,:],circular=True)\n",
    "    peak_rf, skew_rf = getPeak(x,agent.discreteStates[10,:,n]), getSkewness(agent.discreteStates[10,:,n],circular=True)\n",
    "    peak_rfM = peak_rf\n",
    "    if peak_pf > peak_rf: peak_rf += agent.roomSize  \n",
    "    if peak_pfM > peak_rfM: peak_rfM += agent.roomSize \n",
    "    peak_shift = peak_pf - peak_rf\n",
    "    peak_shiftM = peak_pfM - peak_rfM\n",
    "    shift.append(peak_shift)\n",
    "    shiftM.append(peak_shiftM)\n",
    "    skew_PF.append(skew_pf)\n",
    "    skew_PFM.append(skew_pfM)\n",
    "    skew_RF.append(skew_rf)\n",
    "    R2list.append(Rsquared(placeFields[n][10,:],placeFields_M[n][10,:]))\n",
    "print('peak shift (W, M)          = (%.2f +- %.2f    ,    %.2f +- %.2f)' %(np.mean(shift),np.std(shift),np.mean(shiftM),np.std(shiftM)))\n",
    "print('receptive field skew       =  %.2f +- %.2f' %(np.mean(skew_RF),np.std(skew_RF)))\n",
    "print('place field skew (W, M)    = (%.2f +- %.2f    ,    %.2f +- %.2f)' %(np.mean(skew_PF),np.std(skew_PF),np.mean(skew_PFM),np.std(skew_PFM)))\n",
    "\n",
    "\n",
    "fig, ax = plotter.plotFieldSilhouette(N=N, plot_pf=False,plot_pf_M=False,plot_rf=True)\n",
    "saveFigure(fig,'openLoopEnd_siderf',specialLocation=\"../figures/paperFigures/figure3/3Aiii.svg\")\n",
    "\n",
    "fig, ax = plotter.plotFieldSilhouette(N=N, plot_pf=True,plot_pf_M=True,plot_rf=False)\n",
    "saveFigure(fig,'openLoopEnd_sidepf',specialLocation=\"../figures/paperFigures/figure3/3Aiv.svg\")"
   ]
  },
  {
   "cell_type": "markdown",
   "metadata": {},
   "source": [
    "# 2.0 Closed corridor maze"
   ]
  },
  {
   "cell_type": "markdown",
   "metadata": {},
   "source": [
    "## 2.1 Make maze agent "
   ]
  },
  {
   "cell_type": "code",
   "execution_count": null,
   "metadata": {},
   "outputs": [],
   "source": [
    "#Default parameters for MazeAgent \n",
    "params2 = params.copy()\n",
    "params2['doorsClosed'] = True\n",
    "\n",
    "agent2 =  MazeAgent(params2)"
   ]
  },
  {
   "cell_type": "code",
   "execution_count": null,
   "metadata": {},
   "outputs": [],
   "source": [
    "agent2 =  MazeAgent(params2)"
   ]
  },
  {
   "cell_type": "markdown",
   "metadata": {},
   "source": [
    "## 2.1.1 ...or load agent?"
   ]
  },
  {
   "cell_type": "code",
   "execution_count": null,
   "metadata": {},
   "outputs": [],
   "source": [
    "agent2 =  MazeAgent(loadFromFileCalled='closedLoop')"
   ]
  },
  {
   "cell_type": "markdown",
   "metadata": {},
   "source": [
    "## 2.2 Run rat \n"
   ]
  },
  {
   "cell_type": "code",
   "execution_count": null,
   "metadata": {},
   "outputs": [],
   "source": [
    "agent2.runRat(trainTime=30,saveEvery=0.5)"
   ]
  },
  {
   "cell_type": "markdown",
   "metadata": {},
   "source": [
    "## 2.2.1 ...and save agent?"
   ]
  },
  {
   "cell_type": "code",
   "execution_count": null,
   "metadata": {},
   "outputs": [],
   "source": [
    "agent.saveToFile(name = \"closedLoop\")"
   ]
  },
  {
   "cell_type": "markdown",
   "metadata": {},
   "source": [
    "## 2.2 Run rat "
   ]
  },
  {
   "cell_type": "code",
   "execution_count": null,
   "metadata": {},
   "outputs": [],
   "source": [
    "agent2.runRat(trainTime=1,saveEvery=0.5)"
   ]
  },
  {
   "cell_type": "markdown",
   "metadata": {},
   "source": [
    "## 2.3 Plot all required figures"
   ]
  },
  {
   "cell_type": "code",
   "execution_count": null,
   "metadata": {},
   "outputs": [],
   "source": [
    "#FIGURE 2F\n",
    "plotter2 = Visualiser(agent2)\n",
    "fig, ax = plotter2.plotFeatureCells(centresOnly=True, textlabel=False,onepink=False)\n",
    "saveFigure(fig,'openloop',specialLocation=\"../figures/paperFigures/figure2/2F.svg\")\n",
    "\n",
    "#FIGURE 2G\n",
    "fig, ax = plotter2.plotM(whichM='W',colorbar=False,time=30)\n",
    "ax.axis('on')\n",
    "for spine in ax.spines.values():\n",
    "    spine.set_color('C1')\n",
    "    spine.set_linewidth(2)\n",
    "ax.set_xticks([])\n",
    "ax.set_yticks([])\n",
    "saveFigure(fig,'W',specialLocation='../figures/paperFigures/figure2/2G.svg')\n",
    "\n",
    "#FIGURE 2H\n",
    "fig, ax, cb, cax = plotter2.plotM()\n",
    "ax.axis('on')\n",
    "for spine in ax.spines.values():\n",
    "    spine.set_color('C0')\n",
    "    spine.set_linewidth(2)\n",
    "cb.set_ticks([0])\n",
    "cb.set_ticklabels([\"\"])\n",
    "cax.tick_params(color='darkgrey',width=2)\n",
    "ax.set_xticks([])\n",
    "ax.set_yticks([])\n",
    "saveFigure(fig,'M',specialLocation='../figures/paperFigures/figure2/2H.svg')\n",
    "\n",
    "fig, ax = plotter2.plotM(whichM='W_notheta',colorbar=False)\n",
    "ax.axis('on')\n",
    "for spine in ax.spines.values():\n",
    "    spine.set_color('C1')\n",
    "    spine.set_linewidth(2)\n",
    "    spine.set_linestyle((0,(0.5,2)))\n",
    "ax.set_xticks([])\n",
    "ax.set_yticks([])\n",
    "saveFigure(fig,'W_notheta')\n",
    "\n",
    "\n",
    "#FIGURE 2IJ\n",
    "fig, ax = plotter2.plotMAveraged()\n",
    "ax[0].get_legend().set_visible(False) \n",
    "saveFigure(fig,'Mav',specialLocation='../figures/paperFigures/figure2/2I.svg')\n",
    "\n",
    "fig, ax = plotter2.plotMetrics()\n",
    "saveFigure(fig,'Mvarerr',specialLocation='../figures/paperFigures/figure2/2J.svg')\n",
    "\n",
    "#FIGURE 3B\n",
    "N = 25\n",
    "\n",
    "fig, ax = plotter2.plotReceptiveField(number=N)\n",
    "saveFigure(fig,'closedLoopStart',specialLocation=\"../figures/paperFigures/figure3/3Bi.svg\")\n",
    "\n",
    "fig, ax = plotter2.plotPlaceField(time=10, number=N, STDP=True,threshold=0)\n",
    "saveFigure(fig,'closedLoopEnd',specialLocation=\"../figures/paperFigures/figure3/3Bii.svg\")\n",
    "\n",
    "placeFields = agent2.getPlaceFields(M=agent2.W,threshold=0)\n",
    "placeFields_M = agent2.getPlaceFields(M=agent2.M,threshold=0)\n",
    "x = agent2.discreteCoords[10,:,0]\n",
    "skew_PF, skew_PFM, skew_RF, shift, shiftM, R2list = [], [], [], [], [], []\n",
    "\n",
    "for n in range(0,50):\n",
    "    peak_pf, skew_pf = getPeak(x,placeFields[n][10,:]), getSkewness(placeFields[n][10,:],circular=True)\n",
    "    peak_pfM, skew_pfM = getPeak(x,placeFields_M[n][10,:]), getSkewness(placeFields_M[n][10,:],circular=True)\n",
    "    peak_rf, skew_rf = getPeak(x,agent2.discreteStates[10,:,n]), getSkewness(agent2.discreteStates[10,:,n],circular=True)\n",
    "    peak_rfM = peak_rf\n",
    "    # if peak_pf > peak_rf: peak_rf += agent2.roomSize  \n",
    "    # if peak_pfM > peak_rfM: peak_rfM += agent2.roomSize \n",
    "    peak_shift = peak_pf - peak_rf\n",
    "    peak_shiftM = peak_pfM - peak_rfM\n",
    "    shift.append(peak_shift)\n",
    "    shiftM.append(peak_shiftM)\n",
    "    skew_PF.append(skew_pf)\n",
    "    skew_PFM.append(skew_pfM)\n",
    "    skew_RF.append(skew_rf)\n",
    "    R2list.append(Rsquared(placeFields[n][10,:],placeFields_M[n][10,:]))\n",
    "print('peak shift (W, M)          = (%.2f +- %.2f    ,    %.2f +- %.2f)' %(np.mean(shift),np.std(shift),np.mean(shiftM),np.std(shiftM)))\n",
    "print('receptive field skew       =  %.2f +- %.2f' %(np.mean(skew_RF),np.std(skew_RF)))\n",
    "print('place field skew (W, M)    = (%.2f +- %.2f    ,    %.2f +- %.2f)' %(np.mean(skew_PF),np.std(skew_PF),np.mean(skew_PFM),np.std(skew_PFM)))\n",
    "\n",
    "\n",
    "fig, ax = plotter2.plotFieldSilhouette(N=N, plot_pf=False,plot_pf_M=False,plot_rf=True)\n",
    "saveFigure(fig,'closedLoopEnd_siderf',specialLocation=\"../figures/paperFigures/figure3/3Biii.svg\")\n",
    "\n",
    "fig, ax = plotter2.plotFieldSilhouette(N=N, plot_pf=True,plot_pf_M=True,plot_rf=False)\n",
    "saveFigure(fig,'closedLoopEnd_sidepf',specialLocation=\"../figures/paperFigures/figure3/3Biv.svg\")\n"
   ]
  },
  {
   "cell_type": "markdown",
   "metadata": {},
   "source": [
    "# 3.0 Two room maze"
   ]
  },
  {
   "cell_type": "markdown",
   "metadata": {},
   "source": [
    "## 3.1 Make maze agent \n",
    "### we make one with policy biasing and another without "
   ]
  },
  {
   "cell_type": "code",
   "execution_count": null,
   "metadata": {},
   "outputs": [],
   "source": [
    "#Default parameters for MazeAgent \n",
    "N = 200 \n",
    "roomSize = 2.5\n",
    "n = int(np.sqrt(N / 2))\n",
    "delta = roomSize / n\n",
    "x = np.arange(0,2.5,delta) + delta/2\n",
    "y = np.arange(0,2.5,delta) + delta/2\n",
    "xy = np.meshgrid(x,y)\n",
    "centresL = []\n",
    "for i in range(len(x)):\n",
    "    for j in range(len(y)):\n",
    "        centresL += [[x[i],y[j]]]\n",
    "centresL = np.array(centresL)\n",
    "centresR = centresL + np.array([2.5,0])\n",
    "centres = np.vstack([centresL,centresR])\n",
    "delta=0.45*delta\n",
    "centres += np.random.uniform(-0.8*delta,0.8*delta,size=centres.shape)\n",
    "\n",
    "params3 = { \n",
    "\n",
    "          #Maze params \n",
    "          'mazeType'            : 'twoRooms',  #type of maze, define in getMaze() function\n",
    "          'stateType'           : 'gaussianThreshold', #feature on which to TD learn (onehot, gaussian, gaussianCS, circles, bump)\n",
    "          'movementPolicy'      : 'raudies',  #movement policy (raudies, random walk, windows screensaver)\n",
    "          'roomSize'            : roomSize,          #maze size scaling parameter, metres\n",
    "          'dt'                  : 0.001,       #simulation time disretisation \n",
    "          'dx'                  : 0.02,       #space discretisation (for plotting, movement is continuous)\n",
    "          'centres'             : centres,       #array of receptive field positions. Overwrites nCells\n",
    "          'sigma'               : 1,          #basis cell width scale (irrelevant for onehots)\n",
    "          'doorsClosed'         : False,       #whether doors are opened or closed in multicompartment maze\n",
    "          'firingRateLookUp'    : True,\n",
    "          'rotSpeedScale'       : 1.5,\n",
    "          'biasDoorCross'       : True,\n",
    "          'biasWallFollow'      : True,\n",
    "\n",
    "          #TD params \n",
    "          'tau'                 : 4,          #TD decay time, seconds\n",
    "          'TDdx'                : 0.01,       #rough distance between TD learning updates, metres \n",
    "          'alpha'               : 0.01,       #TD learning rate \n",
    "          'successorFeatureNorm': 100,        #linear scaling on successor feature definition found to improve learning stability\n",
    "          'TDreg'               : 0.01,       #L2 regularisation \n",
    "          \n",
    "          #STDP params\n",
    "          'peakFiringRate'      : 5,          #peak firing rate of a cell (middle of place field, preferred theta phase)\n",
    "          'tau_STDP_plus'       : 20e-3,      #pre trace decay time\n",
    "          'tau_STDP_minus'      : 40e-3,      #post trace decay time\n",
    "          'a_STDP'              : -0.4,       #pre-before-post potentiation factor (post-before-pre = 1) \n",
    "          'eta'                 : 0.05,       #STDP learning rate\n",
    "          'baselineFiringRate'  : 0,          #baseline firing rate for cells \n",
    "\n",
    "\n",
    "          #Theta precession params\n",
    "          'thetaFreq'           : 10,         #theta frequency\n",
    "          'precessFraction'     : 0.5,        #fraction of 2pi the prefered phase moves through\n",
    "          'kappa'               : 1,          # von mises spread parameter\n",
    "          }\n",
    "\n",
    "\n",
    "params3_unbiased = params3.copy()\n",
    "params3_unbiased['biasDoorCross'] = False\n",
    "params3_unbiased['biasWallFollow'] = False"
   ]
  },
  {
   "cell_type": "code",
   "execution_count": null,
   "metadata": {},
   "outputs": [],
   "source": [
    "agent3 =  MazeAgent(params3)"
   ]
  },
  {
   "cell_type": "code",
   "execution_count": null,
   "metadata": {},
   "outputs": [],
   "source": [
    "params3_unbiased['dt'] = 0.01\n",
    "params3_unbiased['dx'] = 0.05\n",
    "agent3_unbiased = MazeAgent(params3_unbiased)"
   ]
  },
  {
   "cell_type": "markdown",
   "metadata": {},
   "source": [
    "## 3.1.1 ...or load agents?"
   ]
  },
  {
   "cell_type": "code",
   "execution_count": null,
   "metadata": {},
   "outputs": [],
   "source": [
    "agent3 = mazeAgent(loadFromFileCalled=\"twoRooms\")"
   ]
  },
  {
   "cell_type": "code",
   "execution_count": null,
   "metadata": {},
   "outputs": [],
   "source": [
    "agent3_unbiased = mazeAgent(loadFromFileCalled=\"twoRooms_unbiased\")"
   ]
  },
  {
   "cell_type": "markdown",
   "metadata": {},
   "source": [
    "## 3.2 Run rats "
   ]
  },
  {
   "cell_type": "code",
   "execution_count": null,
   "metadata": {},
   "outputs": [],
   "source": [
    "agent3.runRat(trainTime=120)"
   ]
  },
  {
   "cell_type": "code",
   "execution_count": null,
   "metadata": {},
   "outputs": [],
   "source": [
    "agent3_unbiased.runRat(trainTime=120)"
   ]
  },
  {
   "cell_type": "markdown",
   "metadata": {},
   "source": [
    "## 3.2.1 ...and save agents? "
   ]
  },
  {
   "cell_type": "code",
   "execution_count": null,
   "metadata": {},
   "outputs": [],
   "source": [
    "agent3.saveToFile(name=\"twoRooms\")"
   ]
  },
  {
   "cell_type": "code",
   "execution_count": null,
   "metadata": {},
   "outputs": [],
   "source": [
    "agent3_unbiased.saveToFile(name=\"twoRooms_unbiased\")"
   ]
  },
  {
   "cell_type": "markdown",
   "metadata": {},
   "source": [
    "## 3.3 Plot figures"
   ]
  },
  {
   "cell_type": "code",
   "execution_count": null,
   "metadata": {},
   "outputs": [],
   "source": [
    "plotter3 = Visualiser(agent3)\n",
    "plotter3_unbiased = Visualiser(agent3_unbiased)\n",
    "\n",
    "\n",
    "\n",
    "#FIGURE 2K\n",
    "fig, ax = plotter3.plotFeatureCells(centresOnly=True, textlabel=False)\n",
    "saveFigure(fig, 'twoRoom',specialLocation=\"../figures/paperFigures/figure2/2K.svg\")\n",
    "\n",
    "\n",
    "\n",
    "#FIGURE 2L\n",
    "fig, ax = plotter3.plotM(whichM='W',colorbar=False,time=60)\n",
    "ax.axis('on')\n",
    "for spine in ax.spines.values():\n",
    "    spine.set_color('C1')\n",
    "    spine.set_linewidth(2)\n",
    "ax.set_xticks([])\n",
    "ax.set_yticks([])\n",
    "saveFigure(fig,'W',specialLocation='../figures/paperFigures/figure2/2L.svg')\n",
    "\n",
    "\n",
    "\n",
    "#FIGURE 2M\n",
    "fig, ax, cb, cax = plotter3.plotM()\n",
    "ax.axis('on')\n",
    "for spine in ax.spines.values():\n",
    "    spine.set_color('C0')\n",
    "    spine.set_linewidth(2)\n",
    "cb.set_ticks([0])\n",
    "cb.set_ticklabels([\"\"])\n",
    "cax.tick_params(color='darkgrey',width=2)\n",
    "ax.set_xticks([])\n",
    "ax.set_yticks([])\n",
    "saveFigure(fig,'M',specialLocation='../figures/paperFigures/figure2/2M.svg')\n",
    "\n",
    "fig, ax = plotter3.plotVarianceAndError()\n",
    "saveFigure(fig,'Mvarerr',specialLocation='../figures/paperFigures/figure2/2N.svg')\n",
    "\n",
    "print(R2(agent3.M,agent3.W))\n",
    "\n",
    "\n",
    "#FIGURE 3C\n",
    "\n",
    "cellID = np.argmin(np.linalg.norm(agent3.centres - np.array([0,1.25]),axis=1))\n",
    "\n",
    "#figure 3Ctop\n",
    "fig, ax = plotter3.plotReceptiveField(number=cellID, fitEllipse_=True)\n",
    "saveFigure(fig,'2DMazeSideStart',specialLocation=\"../figures/paperFigures/figure3/3Ci.svg\")\n",
    "\n",
    "#figure 3Cbottom\n",
    "fig, ax = plotter3.plotPlaceField(number=cellID, STDP=True,fitEllipse_=True,threshold=0.2)\n",
    "saveFigure(fig,'2DMazeSideEnd',specialLocation=\"../figures/paperFigures/figure3/3Cii.svg\")\n",
    "\n",
    "placeFields = agent3.getPlaceFields(M=agent3.W,threshold=0.5)\n",
    "placeFields_unbiased = agent3_unbiased.getPlaceFields(M=agent3_unbiased.W,threshold=0.5)\n",
    "coords = agent3.discreteCoords\n",
    "eccen_wall = []\n",
    "eccen_wall_unbiased = []\n",
    "eccen_centre = []\n",
    "for i in range(agent3.nCells):\n",
    "    x,y = agent3.centres[i][0],agent3.centres[i][1] \n",
    "    if ((0.75 < x < 1.75) or (3.25 < x < 4.25)) and (0.75 < y < 1.75): \n",
    "        (X,Y,Z),e = fitEllipse(placeFields[i],coords=coords,verbose=False)\n",
    "        eccen_centre.append(e)\n",
    "    elif ((((x < 0.25) or (x > 4.75)) and (0.75 < y < 1.75)) or \n",
    "            (((0.75 < x < 1.75) or (3.25 < x < 4.25)) and ((y < 0.25) or (y > 2.25)))):\n",
    "        (X,Y,Z),e = fitEllipse(placeFields[i],coords=coords,verbose=False)\n",
    "        (X,Y,Z),e_unbiased = fitEllipse(placeFields_unbiased[i],coords=agent3_unbiased.discreteCoords,verbose=False)\n",
    "        eccen_wall.append(e)\n",
    "        eccen_wall_unbiased.append(e_unbiased)\n",
    "\n",
    "s1, p1 = scipy.stats.kstest(eccen_wall,eccen_centre,N=len(eccen_wall))\n",
    "s2, p2 = scipy.stats.kstest(eccen_wall_unbiased,eccen_centre,N=len(eccen_wall))\n",
    "s3, p3 = scipy.stats.kstest(eccen_wall,eccen_wall_unbiased,N=len(eccen_wall))\n",
    "\n",
    "print(\"wall cells, eccentricity               =  %.2f +- %.2f  (N=%g) \" %(np.mean(eccen_wall),np.std(eccen_wall),len(eccen_wall)))\n",
    "print(\"centre cells, eccentricity             =  %.2f +- %.2f  (N=%g) \" %(np.mean(eccen_centre),np.std(eccen_centre),len(eccen_centre)))\n",
    "print(\"wall cells (unbiased), eccentricity    =  %.2f +- %.2f  (N=%g) \" %(np.mean(eccen_wall_unbiased),np.std(eccen_wall_unbiased),len(eccen_wall_unbiased)))\n",
    "print(\"wall to centre           :            z = %.3f --> p = %.8f\" %(z1,p1))\n",
    "print(\"wall (unbiased) to centre:            z = %.3f --> p = %.8f\" %(z2,p2))\n",
    "print(\"wall to wall (unbiased)  :            z = %.3f --> p = %.8f\" %(z3,p3))\n",
    "\n",
    "# figure 3Cinset \n",
    "fig, ax = plt.subplots(figsize=(1.2,1.2))\n",
    "bp1 = ax.boxplot([eccen_centre],positions = [0.1],showfliers=False,widths=0.14)\n",
    "bp2 = ax.boxplot([eccen_wall],positions = [0.3],showfliers=False,widths=0.14)\n",
    "bp3 = ax.boxplot([eccen_wall_unbiased],positions = [0.5],showfliers=False,widths=0.14)\n",
    "for bp in [bp1,bp2]:\n",
    "    for element in ['boxes', 'whiskers', 'means', 'medians', 'caps']:\n",
    "        plt.setp(bp[element], color='#E58059',linewidth=1.8)\n",
    "    for patch in bp['boxes']:\n",
    "        patch.set(color='#E58059',linewidth=1.8)    \n",
    "for bp in [bp3]:\n",
    "    for element in ['boxes', 'whiskers', 'means', 'medians', 'caps']:\n",
    "        plt.setp(bp[element], color='#fbbda8',linewidth=1.8)\n",
    "    for patch in bp['boxes']:\n",
    "        patch.set(color='#fbbda8',linewidth=1.8)    \n",
    "ax.set_ylim([0,0.8])\n",
    "ax.set_xlim([0,0.6])\n",
    "hideAxes(ax)\n",
    "ax.set_yticks([0,0.4,0.8])\n",
    "ax.set_yticklabels(['','',''])\n",
    "ax.set_xticks([0.1,0.3,0.5])\n",
    "ax.set_xticklabels(['',''])\n",
    "ax.tick_params(width=2,color='darkgrey')\n",
    "saveFigure(fig,'eccentricityBoxplot',specialLocation=\"../figures/paperFigures/figure3/3Cii_inset.svg\")\n",
    "\n",
    "\n",
    "#FIGURE 3D\n",
    "#find cell just behind wall\n",
    "cellID = np.argmin(np.linalg.norm(agent3.centres - np.array([2.8,0.4]),axis=1))\n",
    "\n",
    "#3Dtop\n",
    "fig, ax = plotter3.plotReceptiveField(number=cellID)\n",
    "saveFigure(fig,'2DMazeDoorCreepStart',specialLocation=\"../figures/paperFigures/figure3/3Di.svg\")\n",
    "#3Dbottom\n",
    "fig, ax = plotter3.plotPlaceField(time=30, number=cellID, STDP=True,threshold=0.2)\n",
    "saveFigure(fig,'2DMazeDoorCreepEnd',specialLocation=\"../figures/paperFigures/figure3/3Dii.svg\")\n",
    "\n",
    "placeFields = agent3.getPlaceFields(M=agent3.W,threshold=0.5)\n",
    "placeFields_unbiased = agent3_unbiased.getPlaceFields(M=agent3_unbiased.W,threshold=0.5)\n",
    "coords = agent3.discreteCoords\n",
    "doorwardsShift = []\n",
    "doorwardsShift_unbiased = []\n",
    "doorwardsShift_centre = []\n",
    "for i in range(agent3.nCells):\n",
    "    x,y = agent3.centres[i][0],agent3.centres[i][1] \n",
    "    if ((2.5 - 0.5 < x < 2.5 + 0.5) and (1.25 - 0.5 < y < 1.25 + 0.5)): \n",
    "    # if True: \n",
    "        peakcoord = agent3.discreteCoords.reshape(-1,2)[np.argmax(placeFields[i])]\n",
    "        centre = agent3.centres[i]\n",
    "        shift_vector = peakcoord - centre\n",
    "        radial_vector =  np.array([2.5,1.25]) - centre\n",
    "        radial_vector /= np.linalg.norm(radial_vector)\n",
    "        doorwarsShift.append(np.dot(radial_vector,shift_vector))\n",
    "\n",
    "        peakcoord = agent3_unbiased.discreteCoords.reshape(-1,2)[np.argmax(placeFields_unbiased[i])]\n",
    "        centre = agent3_unbiased.centres[i]\n",
    "        shift_vector = peakcoord - centre\n",
    "        radial_vector =  np.array([2.5,1.25]) - centre\n",
    "        radial_vector /= np.linalg.norm(radial_vector)\n",
    "        doorwarsShift_unbiased.append(np.dot(radial_vector,shift_vector))\n",
    "    \n",
    "    elif ((0.75 < x < 1.75) or (3.25 < x < 4.25)) and (0.75 < y < 1.75): \n",
    "        peakcoord = agent3.discreteCoords.reshape(-1,2)[np.argmax(placeFields[i])]\n",
    "        centre = agent3.centres[i]\n",
    "        shift_vector = peakcoord - centre\n",
    "        radial_vector =  np.array([2.5,1.25]) - centre\n",
    "        radial_vector /= np.linalg.norm(radial_vector)\n",
    "        doorwarsShift_centre.append(np.dot(radial_vector,shift_vector))\n",
    "\n",
    "s1, p1 = scipy.stats.kstest(doorShift,doorwardsShift_centre,N=len(doorShift))\n",
    "s2, p2 = scipy.stats.kstest(doorShift_unbiased,doorwardsShift_centre,N=len(doorShift))\n",
    "s3, p3 = scipy.stats.kstest(doorShift,doorShift_unbiased,N=len(doorShift))\n",
    "\n",
    "print(\"door cells shift inwards by  =  %.2f +- %.2f  (N=%g) \" %(np.mean(doorShift),np.std(doorShift),len(doorShift)))\n",
    "print(\"centre cells shift inwards by   =  %.2f +- %.2f  (N=%g) \" %(np.mean(doorwardsShift_centre),np.std(doorwardsShift_centre),len(doorwardsShift_centre)))\n",
    "print(\"door cells (unbiased) shift inwards by  =  %.2f +- %.2f  (N=%g) \" %(np.mean(doorShift_unbiased),np.std(doorShift_unbiased),len(doorShift_unbiased)))\n",
    "print(\"door to centre           : z = %.3f --> p = %.8f\" %(z1,p1))\n",
    "print(\"door (unbiased) to centre: z = %.3f --> p = %.8f\" %(z2,p2))\n",
    "print(\"door to door (unbiased)  : z = %.3f --> p = %.8f\" %(z3,p3))\n",
    "\n",
    "# figure 3Dinset \n",
    "fig, ax = plt.subplots(figsize=(1.2,1.2))\n",
    "bp1 = ax.boxplot([doorwardsShift_centre],positions = [0.1],showfliers=False,widths=0.14)\n",
    "bp2 = ax.boxplot([doorShift],positions = [0.3],showfliers=False,widths=0.14)\n",
    "bp3 = ax.boxplot([doorShift_unbiased],positions = [0.5],showfliers=False,widths=0.14)\n",
    "for bp in [bp1,bp2]:\n",
    "    for element in ['boxes', 'whiskers', 'means', 'medians', 'caps']:\n",
    "        plt.setp(bp[element], color='#E58059',linewidth=1.8)\n",
    "    for patch in bp['boxes']:\n",
    "        patch.set(color='#E58059',linewidth=1.8)    \n",
    "for bp in [bp3]:\n",
    "    for element in ['boxes', 'whiskers', 'means', 'medians', 'caps']:\n",
    "        plt.setp(bp[element], color='#fbbda8',linewidth=1.8)\n",
    "    for patch in bp['boxes']:\n",
    "        patch.set(color='#fbbda8',linewidth=1.8)    \n",
    "# ax.set_ylim([0,0.8])\n",
    "ax.set_xlim([0,0.6])\n",
    "hideAxes(ax)\n",
    "ax.set_yticks([0,0.4,0.8])\n",
    "ax.set_yticklabels(['','',''])\n",
    "ax.set_xticks([0.1,0.3,0.5])\n",
    "ax.set_xticklabels(['',''])\n",
    "ax.tick_params(width=2,color='darkgrey')\n",
    "saveFigure(fig,'doorwardsShiftBoxplot',specialLocation=\"../figures/paperFigures/figure3/3Dii_inset.svg\")\n",
    "\n"
   ]
  },
  {
   "cell_type": "markdown",
   "metadata": {},
   "source": [
    "# 4.0 Multiscale loop"
   ]
  },
  {
   "cell_type": "markdown",
   "metadata": {},
   "source": [
    "## 4.1 Make maze agent "
   ]
  },
  {
   "cell_type": "code",
   "execution_count": null,
   "metadata": {},
   "outputs": [],
   "source": [
    "N=50\n",
    "xcen = np.linspace(0,5,N+1)[:-1]\n",
    "xcen += (xcen[1] - xcen[0]) / 2\n",
    "ycen = np.array([0.1]*N)\n",
    "centres = np.vstack((xcen,ycen)).T\n",
    "centres = np.vstack((centres,centres,centres))\n",
    "sigmas = np.array([0.5]*N  + [1]*N + [1.5]*N)\n",
    "\n",
    "#Default parameters for MazeAgent \n",
    "params4 = { \n",
    "\n",
    "          #Maze params \n",
    "          'mazeType'            : 'loop',  #type of maze, define in getMaze() function\n",
    "          'stateType'           : 'gaussianThreshold', #feature on which to TD learn (onehot, gaussian, gaussianCS, circles, bump)\n",
    "          'movementPolicy'      : 'windowsScreensaver',  #movement policy (raudies, random walk, windows screensaver)\n",
    "          'roomSize'            : 5,          #maze size scaling parameter, metres\n",
    "          'dt'                  : 0.001,       #simulation time disretisation \n",
    "          'dx'                  : 0.01,       #space discretisation (for plotting, movement is continuous)\n",
    "          'centres'             : centres,       #array of receptive field positions. Overwrites nCells\n",
    "          'sigma'               : sigmas,          #basis cell width scale (irrelevant for onehots)\n",
    "          'doorsClosed'         : False,       #whether doors are opened or closed in multicompartment maze\n",
    "          'reorderCells'        : False,\n",
    "          #TD params \n",
    "          'tau'                 : 4,          #TD decay time, seconds\n",
    "          'TDdx'                : 0.01,       #rough distance between TD learning updates, metres \n",
    "          'alpha'               : 0.01,       #TD learning rate \n",
    "          'successorFeatureNorm': 100,        #linear scaling on successor feature definition found to improve learning stability\n",
    "          'TDreg'               : 0.01,       #L2 regularisation \n",
    "          \n",
    "          #STDP params\n",
    "          'peakFiringRate'      : 5,          #peak firing rate of a cell (middle of place field, preferred theta phase)\n",
    "          'tau_STDP_plus'       : 20e-3,      #pre trace decay time\n",
    "          'tau_STDP_minus'      : 40e-3,      #post trace decay time\n",
    "          'a_STDP'              : -0.4,       #pre-before-post potentiation factor (post-before-pre = 1) \n",
    "          'eta'                 : 0.05,       #STDP learning rate\n",
    "          'baselineFiringRate'  : 0,          #baseline firing rate for cells \n",
    "\n",
    "\n",
    "          #Theta precession params\n",
    "          'thetaFreq'           : 10,         #theta frequency\n",
    "          'precessFraction'     : 0.5,        #fraction of 2pi the prefered phase moves through\n",
    "          'kappa'               : 1,          # von mises spread parameter\n",
    "          }"
   ]
  },
  {
   "cell_type": "code",
   "execution_count": null,
   "metadata": {},
   "outputs": [],
   "source": [
    "agent4 =  MazeAgent(params4)"
   ]
  },
  {
   "cell_type": "markdown",
   "metadata": {},
   "source": [
    "## 4.1.1 ...or load from file? "
   ]
  },
  {
   "cell_type": "code",
   "execution_count": null,
   "metadata": {},
   "outputs": [],
   "source": [
    "agent4 =  MazeAgent(loadFromFileCalled=\"multiscale\")"
   ]
  },
  {
   "cell_type": "markdown",
   "metadata": {},
   "source": [
    "## 4.2 Run rat "
   ]
  },
  {
   "cell_type": "code",
   "execution_count": null,
   "metadata": {},
   "outputs": [],
   "source": [
    "agent4.runRat(trainTime=30,saveEvery=0.5)"
   ]
  },
  {
   "cell_type": "markdown",
   "metadata": {},
   "source": [
    "## 4.2.1 ...and save to file? "
   ]
  },
  {
   "cell_type": "code",
   "execution_count": null,
   "metadata": {},
   "outputs": [],
   "source": [
    "agent4.saveToFile(name=\"multiscale\")"
   ]
  },
  {
   "cell_type": "markdown",
   "metadata": {},
   "source": [
    "## 4.3 Plot all figures "
   ]
  },
  {
   "cell_type": "code",
   "execution_count": null,
   "metadata": {},
   "outputs": [],
   "source": [
    "plotter4 = Visualiser(agent4)\n",
    "\n",
    "#FIGURE 4A \n",
    "fig, ax = plotter4.plotFeatureCells(centresOnly=True, textlabel=False,threetypes=False)\n",
    "saveFigure(fig,'openloop_threetypes',specialLocation=\"../figures/paperFigures/figure4/4C.svg\")\n",
    "\n",
    "W_onDiag = agent4.W.copy()\n",
    "for i in range(agent4.nCells):\n",
    "    for j in range(agent4.nCells):\n",
    "        if i < 50: \n",
    "            if j >= 50: \n",
    "                W_onDiag[i,j] = 0 \n",
    "        elif 50 <= i < 100:\n",
    "            if j < 50 or j >= 100: \n",
    "                W_onDiag[i,j] = 0 \n",
    "        elif i >= 100: \n",
    "            if j < 100: \n",
    "                W_onDiag[i,j] = 0\n",
    "\n",
    "agent4.W_onDiag = W_onDiag\n",
    "plotter4 = Visualiser(agent4)\n",
    "\n",
    "\n",
    "\n",
    "#Figure 4D\n",
    "fig, ax = plotter4.plotM(M=agent4.W,colorbar=False,colormatchto='W_onDiag')\n",
    "ax.axis('on')\n",
    "for spine in ax.spines.values():\n",
    "    spine.set_color('C1')\n",
    "    spine.set_linewidth(2)\n",
    "ax.set_xticks([])\n",
    "ax.set_yticks([])\n",
    "saveFigure(fig,'W',specialLocation='../figures/paperFigures/figure4/4D.svg')\n",
    "\n",
    "fig, ax = plotter4.plotPlaceField(number=25, M=agent4.W,threshold=0)\n",
    "saveFigure(fig,'pc_small',specialLocation=\"../figures/paperFigures/figure4/4Di.svg\")\n",
    "\n",
    "fig, ax = plotter4.plotPlaceField(number=75, M=agent4.W,threshold=0)\n",
    "saveFigure(fig,'pc_medium',specialLocation=\"../figures/paperFigures/figure4/4Dii.svg\")\n",
    "\n",
    "fig, ax = plotter4.plotPlaceField(number=125, M=agent4.W,threshold=0)\n",
    "saveFigure(fig,'pc_large',specialLocation=\"../figures/paperFigures/figure4/4Diii.svg\")\n",
    "\n",
    "\n",
    "\n",
    "#Figure 4E\n",
    "fig, ax, = plotter4.plotM(M=agent4.W_onDiag,colorbar=False,colormatchto='W_onDiag')\n",
    "ax.axis('on')\n",
    "for spine in ax.spines.values():\n",
    "    spine.set_color('C1')\n",
    "    spine.set_linewidth(2)\n",
    "ax.set_xticks([])\n",
    "ax.set_yticks([])\n",
    "saveFigure(fig,'W_onDiag',specialLocation='../figures/paperFigures/figure4/4E.svg')\n",
    "\n",
    "fig, ax = plotter4.plotPlaceField(number=25, M=agent4.W_onDiag,threshold=0)\n",
    "saveFigure(fig,'pc_small',specialLocation=\"../figures/paperFigures/figure4/4Ei.svg\")\n",
    "\n",
    "fig, ax = plotter4.plotPlaceField(number=75, M=agent4.W_onDiag,threshold=0)\n",
    "saveFigure(fig,'pc_medium',specialLocation=\"../figures/paperFigures/figure4/4Eii.svg\")\n",
    "\n",
    "fig, ax = plotter4.plotPlaceField(number=125, M=agent4.W_onDiag,threshold=0)\n",
    "saveFigure(fig,'pc_large',specialLocation=\"../figures/paperFigures/figure4/4Eiii.svg\")\n"
   ]
  },
  {
   "cell_type": "code",
   "execution_count": null,
   "metadata": {},
   "outputs": [],
   "source": [
    "#FIGURE 4C\n",
    "N=50\n",
    "loopsize=5\n",
    "xcen = np.linspace(0,loopsize,N+1)[:-1]\n",
    "xcen += (xcen[1] - xcen[0]) / 2\n",
    "ycen = np.array([0.1]*N)\n",
    "centres = np.vstack((xcen,ycen)).T\n",
    "\n",
    "sigmas = [0.25,0.5,0.75,1,1.25,1.5,1.75,2]\n",
    "w_bank = np.zeros(shape=(len(sigmas),N,N))\n",
    "\n",
    "for (i, sigma) in enumerate(sigmas):\n",
    "    parameters = {\n",
    "            #Maze params \n",
    "            'mazeType'            : 'loop',  #type of maze, define in getMaze() function\n",
    "            'stateType'           : 'bump', #feature on which to TD learn (onehot, gaussian, gaussianCS, circles, bump)\n",
    "            'movementPolicy'      : 'windowsScreensaver',  #movement policy (raudies, random walk, windows screensaver)\n",
    "            'roomSize'            : loopsize,          #maze size scaling parameter, metres\n",
    "            'dt'                  : 0.005,       #simulation time disretisation \n",
    "            'centres'             : centres,       #array of receptive field positions. Overwrites nCells\n",
    "            'sigma'               : sigma,          #basis cell width scale (irrelevant for onehots)\n",
    "            'doorsClosed'         : False,       #whether doors are opened or closed in multicompartment maze\n",
    "            #TD params \n",
    "            'tau'                 : 3,          #TD decay time, seconds\n",
    "            'TDdx'                : 0.01,       #rough distance between TD learning updates, metres \n",
    "            'alpha'               : 0.01,       #TD learning rate \n",
    "            'successorFeatureNorm': 100,        #linear scaling on successor feature definition found to improve learning stability\n",
    "            #STDP params\n",
    "            'a_pre'               : 1,          #bump in cell 'presynaptic trace' when it spikes\n",
    "            'a_post'              : 0.7,      #bump in cell 'postsynaptic trace' when it spikes\n",
    "            'precessFraction'     : 1,        #fraction of 2pi the prefered phase moves through\n",
    "            'peakFiringRate'      : 20,         #peak firing rate of a cell (middle of place field, preferred theta phase)\n",
    "            'eta_pre'             : 0.05,        #learning rate for pre to post strengthening \n",
    "            'eta_post'            : 0.05,        #learning rate for post to pre weakening\n",
    "            'kappa'               : 1,        #von mises spread parameter (smaller = wider)\n",
    "            'tau_pre'             : 20e-3,      #rate potentiating trace decays\n",
    "            'tau_post'            : 20e-3,      #rate depressing trace decays \n",
    "            'baselineFiringRate'  : 0\n",
    "    }\n",
    "\n",
    "    agentsigma =  MazeAgent(parameters)\n",
    "    agentsigma.runRat(trainTime=10,TDSRLearn=False)\n",
    "    w_bank[i] = agentsigma.W\n",
    "\n",
    "taus = np.zeros(len(sigmas))\n",
    "taus_sigma = np.zeros(len(sigmas))\n",
    "\n",
    "for (i,sigma) in enumerate(sigmas):\n",
    "    t = []\n",
    "    w_shifted = np.zeros_like(agentsigma.W)\n",
    "    w = w_bank[i]\n",
    "    for j in range(agentsigma.nCells):\n",
    "        w_shifted[j,:] = np.roll(w[j,:],-j)\n",
    "    w_shifted_mean = np.mean(w_shifted,axis=0)\n",
    "    b = np.argmax(w_shifted_mean)\n",
    "    plt.plot(w_shifted_mean)\n",
    "    max_binding = w_shifted_mean[b]\n",
    "    while True: \n",
    "        if w_shifted_mean[b] <= max_binding / np.e:\n",
    "            t = agentsigma.nCells - b\n",
    "            break\n",
    "        else: \n",
    "            b -= 1 \n",
    "    tau =  t * (agentsigma.roomSize / agentsigma.nCells) / (agentsigma.speedScale)\n",
    "    taus[i] = tau\n",
    "\n",
    "taus_plot = taus\n",
    "taus_sigma_plot = taus_sigma\n",
    "sigmas_plot = sigmas\n",
    "\n",
    "\n",
    "\n",
    "fig, ax = plt.subplots(figsize=(2,2))\n",
    "[m,c] = np.polyfit(sigmas_plot,taus_plot,deg=1)\n",
    "x = np.linspace(0,sigmas_plot[-1],100)\n",
    "y = m*x + c\n",
    "color = ['darkgrey'] * len(sigmas)\n",
    "color[1],color[3],color[5] = 'C2','#B696C7','C3'\n",
    "size = [25] * len(sigmas)\n",
    "ax.scatter(sigmas_plot,taus_plot,s=size,c=color)\n",
    "# ax.errorbar(sigmas_plot,taus_plot,taus_sigma_plot,ls=\"none\",c=color)\n",
    "ax.plot(x,y,c='darkgrey',linestyle='--',linewidth=1)\n",
    "ax.set_ylim(bottom=0)\n",
    "ax.set_xlim(left=0,right=sigmas_plot[-1]+0.1)\n",
    "ax.spines['left'].set_position('zero')\n",
    "ax.spines['left'].set_color('darkgrey')\n",
    "ax.spines['left'].set_linewidth(2)\n",
    "ax.spines['right'].set_color('none')        \n",
    "ax.spines['bottom'].set_position('zero')\n",
    "ax.spines['bottom'].set_color('darkgrey')\n",
    "ax.spines['bottom'].set_linewidth(2)\n",
    "ax.spines['top'].set_color('none')\n",
    "ax.set_xticks([0,0.5,1,1.5,2])\n",
    "ax.set_xticklabels(['','','','',''])\n",
    "ax.set_yticks([0,2,4,6,8,10])\n",
    "ax.set_yticklabels(['','','','',''])\n",
    "ax.tick_params(width=2,color='darkgrey')\n",
    "\n",
    "saveFigure(fig,\"tausigma\",specialLocation=\"../figures/paperFigures/figure4/4A.svg\")\n"
   ]
  }
 ],
 "metadata": {
  "interpreter": {
   "hash": "92c7e25d58b37c7d20a127cf7c937f8568c34cf23fb7171b7452daf65f1ad26d"
  },
  "kernelspec": {
   "display_name": "Python 3.6.8 64-bit ('base': conda)",
   "name": "python3"
  },
  "language_info": {
   "codemirror_mode": {
    "name": "ipython",
    "version": 3
   },
   "file_extension": ".py",
   "mimetype": "text/x-python",
   "name": "python",
   "nbconvert_exporter": "python",
   "pygments_lexer": "ipython3",
   "version": "3.6.8"
  },
  "orig_nbformat": 2
 },
 "nbformat": 4,
 "nbformat_minor": 2
}
