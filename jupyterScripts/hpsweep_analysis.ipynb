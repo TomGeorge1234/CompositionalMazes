{
 "cells": [
  {
   "cell_type": "code",
   "execution_count": 68,
   "source": [
    "import pandas as pd \n",
    "import numpy as np \n",
    "import subprocess\n",
    "import matplotlib.pyplot as plt \n",
    "from IPython.display import SVG"
   ],
   "outputs": [],
   "metadata": {}
  },
  {
   "cell_type": "code",
   "execution_count": 63,
   "source": [
    "results = pd.read_csv(\"../otherScripts/hpsweep/sweepResults.txt\")\n",
    "results"
   ],
   "outputs": [
    {
     "output_type": "execute_result",
     "data": {
      "text/html": [
       "<div>\n",
       "<style scoped>\n",
       "    .dataframe tbody tr th:only-of-type {\n",
       "        vertical-align: middle;\n",
       "    }\n",
       "\n",
       "    .dataframe tbody tr th {\n",
       "        vertical-align: top;\n",
       "    }\n",
       "\n",
       "    .dataframe thead th {\n",
       "        text-align: right;\n",
       "    }\n",
       "</style>\n",
       "<table border=\"1\" class=\"dataframe\">\n",
       "  <thead>\n",
       "    <tr style=\"text-align: right;\">\n",
       "      <th></th>\n",
       "      <th>kappa</th>\n",
       "      <th>tau_stdp</th>\n",
       "      <th>tau_sr</th>\n",
       "      <th>asymm</th>\n",
       "      <th>frac</th>\n",
       "      <th>R2</th>\n",
       "      <th>skill</th>\n",
       "      <th>area</th>\n",
       "      <th>L2</th>\n",
       "    </tr>\n",
       "  </thead>\n",
       "  <tbody>\n",
       "    <tr>\n",
       "      <th>0</th>\n",
       "      <td>1.00</td>\n",
       "      <td>0.030</td>\n",
       "      <td>5.0</td>\n",
       "      <td>0.90</td>\n",
       "      <td>0.75</td>\n",
       "      <td>0.68004</td>\n",
       "      <td>-3.58047</td>\n",
       "      <td>0.54421</td>\n",
       "      <td>0.50562</td>\n",
       "    </tr>\n",
       "    <tr>\n",
       "      <th>1</th>\n",
       "      <td>1.00</td>\n",
       "      <td>0.030</td>\n",
       "      <td>3.0</td>\n",
       "      <td>0.80</td>\n",
       "      <td>0.50</td>\n",
       "      <td>0.93367</td>\n",
       "      <td>-0.96781</td>\n",
       "      <td>0.22433</td>\n",
       "      <td>0.22747</td>\n",
       "    </tr>\n",
       "    <tr>\n",
       "      <th>2</th>\n",
       "      <td>0.10</td>\n",
       "      <td>0.030</td>\n",
       "      <td>4.0</td>\n",
       "      <td>0.90</td>\n",
       "      <td>1.00</td>\n",
       "      <td>0.86467</td>\n",
       "      <td>-1.74486</td>\n",
       "      <td>0.33011</td>\n",
       "      <td>0.30980</td>\n",
       "    </tr>\n",
       "    <tr>\n",
       "      <th>3</th>\n",
       "      <td>0.50</td>\n",
       "      <td>0.030</td>\n",
       "      <td>4.0</td>\n",
       "      <td>0.90</td>\n",
       "      <td>0.50</td>\n",
       "      <td>0.94133</td>\n",
       "      <td>-0.73497</td>\n",
       "      <td>0.21537</td>\n",
       "      <td>0.19576</td>\n",
       "    </tr>\n",
       "    <tr>\n",
       "      <th>4</th>\n",
       "      <td>0.50</td>\n",
       "      <td>0.025</td>\n",
       "      <td>4.0</td>\n",
       "      <td>0.90</td>\n",
       "      <td>1.00</td>\n",
       "      <td>0.78194</td>\n",
       "      <td>-2.50093</td>\n",
       "      <td>0.45317</td>\n",
       "      <td>0.39511</td>\n",
       "    </tr>\n",
       "    <tr>\n",
       "      <th>...</th>\n",
       "      <td>...</td>\n",
       "      <td>...</td>\n",
       "      <td>...</td>\n",
       "      <td>...</td>\n",
       "      <td>...</td>\n",
       "      <td>...</td>\n",
       "      <td>...</td>\n",
       "      <td>...</td>\n",
       "      <td>...</td>\n",
       "    </tr>\n",
       "    <tr>\n",
       "      <th>211</th>\n",
       "      <td>0.10</td>\n",
       "      <td>0.025</td>\n",
       "      <td>4.0</td>\n",
       "      <td>0.95</td>\n",
       "      <td>1.00</td>\n",
       "      <td>0.92481</td>\n",
       "      <td>-0.98539</td>\n",
       "      <td>0.24209</td>\n",
       "      <td>0.22407</td>\n",
       "    </tr>\n",
       "    <tr>\n",
       "      <th>212</th>\n",
       "      <td>0.10</td>\n",
       "      <td>0.025</td>\n",
       "      <td>5.0</td>\n",
       "      <td>0.80</td>\n",
       "      <td>0.75</td>\n",
       "      <td>0.75959</td>\n",
       "      <td>-2.65643</td>\n",
       "      <td>0.45884</td>\n",
       "      <td>0.40362</td>\n",
       "    </tr>\n",
       "    <tr>\n",
       "      <th>213</th>\n",
       "      <td>0.01</td>\n",
       "      <td>0.030</td>\n",
       "      <td>4.0</td>\n",
       "      <td>0.90</td>\n",
       "      <td>0.75</td>\n",
       "      <td>0.84336</td>\n",
       "      <td>-1.99316</td>\n",
       "      <td>0.35929</td>\n",
       "      <td>0.33779</td>\n",
       "    </tr>\n",
       "    <tr>\n",
       "      <th>214</th>\n",
       "      <td>0.10</td>\n",
       "      <td>0.030</td>\n",
       "      <td>5.0</td>\n",
       "      <td>0.95</td>\n",
       "      <td>1.00</td>\n",
       "      <td>0.92211</td>\n",
       "      <td>-0.99173</td>\n",
       "      <td>0.25054</td>\n",
       "      <td>0.21991</td>\n",
       "    </tr>\n",
       "    <tr>\n",
       "      <th>215</th>\n",
       "      <td>0.10</td>\n",
       "      <td>0.025</td>\n",
       "      <td>3.0</td>\n",
       "      <td>0.90</td>\n",
       "      <td>0.50</td>\n",
       "      <td>0.87166</td>\n",
       "      <td>-1.80119</td>\n",
       "      <td>0.31339</td>\n",
       "      <td>0.32394</td>\n",
       "    </tr>\n",
       "  </tbody>\n",
       "</table>\n",
       "<p>216 rows × 9 columns</p>\n",
       "</div>"
      ],
      "text/plain": [
       "     kappa  tau_stdp  tau_sr  asymm  frac       R2    skill     area       L2\n",
       "0     1.00     0.030     5.0   0.90  0.75  0.68004 -3.58047  0.54421  0.50562\n",
       "1     1.00     0.030     3.0   0.80  0.50  0.93367 -0.96781  0.22433  0.22747\n",
       "2     0.10     0.030     4.0   0.90  1.00  0.86467 -1.74486  0.33011  0.30980\n",
       "3     0.50     0.030     4.0   0.90  0.50  0.94133 -0.73497  0.21537  0.19576\n",
       "4     0.50     0.025     4.0   0.90  1.00  0.78194 -2.50093  0.45317  0.39511\n",
       "..     ...       ...     ...    ...   ...      ...      ...      ...      ...\n",
       "211   0.10     0.025     4.0   0.95  1.00  0.92481 -0.98539  0.24209  0.22407\n",
       "212   0.10     0.025     5.0   0.80  0.75  0.75959 -2.65643  0.45884  0.40362\n",
       "213   0.01     0.030     4.0   0.90  0.75  0.84336 -1.99316  0.35929  0.33779\n",
       "214   0.10     0.030     5.0   0.95  1.00  0.92211 -0.99173  0.25054  0.21991\n",
       "215   0.10     0.025     3.0   0.90  0.50  0.87166 -1.80119  0.31339  0.32394\n",
       "\n",
       "[216 rows x 9 columns]"
      ]
     },
     "metadata": {},
     "execution_count": 63
    }
   ],
   "metadata": {}
  },
  {
   "cell_type": "code",
   "execution_count": 85,
   "source": [
    "results.sort_values('area')['kappa'].iloc[0]"
   ],
   "outputs": [
    {
     "output_type": "execute_result",
     "data": {
      "text/plain": [
       "0.5"
      ]
     },
     "metadata": {},
     "execution_count": 85
    }
   ],
   "metadata": {}
  },
  {
   "cell_type": "code",
   "execution_count": 91,
   "source": [
    "for i in range(10):\n",
    "    kappa = int(1000*results.sort_values('area')['kappa'].iloc[i])\n",
    "    tau_sr = int(1000*results.sort_values('area')['tau_sr'].iloc[i])\n",
    "    tau_stdp = int(1000*results.sort_values('area')['tau_stdp'].iloc[i])\n",
    "    asymm = int(1000*results.sort_values('area')['asymm'].iloc[i])\n",
    "    frac = int(1000*results.sort_values('area')['frac'].iloc[i])\n",
    "    figpath = \"../figures/clusterSweep/%g_%g_%g_%g_%g.svg\" %(kappa,tau_sr,tau_stdp,asymm,frac)\n",
    "    !cp $figpath ../figures/clusterSweep/top10\n",
    "    newfigpath = \"../figures/clusterSweep/top10/%g_%g_%g_%g_%g.svg\" %(kappa,tau_sr,tau_stdp,asymm,frac)\n",
    "    newerfigpath = \"../figures/clusterSweep/top10/%g_%g_%g_%g_%g_%g.svg\" %(i+1,kappa,tau_sr,tau_stdp,asymm,frac)\n",
    "    !mv $newfigpath $newerfigpath"
   ],
   "outputs": [
    {
     "output_type": "stream",
     "name": "stdout",
     "text": [
      "mv: rename newfigpath to newerfigpath: No such file or directory\n",
      "mv: rename newfigpath to newerfigpath: No such file or directory\n",
      "mv: rename newfigpath to newerfigpath: No such file or directory\n",
      "mv: rename newfigpath to newerfigpath: No such file or directory\n",
      "mv: rename newfigpath to newerfigpath: No such file or directory\n",
      "mv: rename newfigpath to newerfigpath: No such file or directory\n",
      "mv: rename newfigpath to newerfigpath: No such file or directory\n",
      "mv: rename newfigpath to newerfigpath: No such file or directory\n",
      "mv: rename newfigpath to newerfigpath: No such file or directory\n",
      "mv: rename newfigpath to newerfigpath: No such file or directory\n"
     ]
    }
   ],
   "metadata": {}
  },
  {
   "cell_type": "code",
   "execution_count": 90,
   "source": [
    "plt.hist(results['area'],bins=100)"
   ],
   "outputs": [
    {
     "output_type": "execute_result",
     "data": {
      "text/plain": [
       "(array([ 5.,  5.,  4.,  2.,  4.,  2.,  2.,  5., 10.,  7.,  2.,  4.,  4.,\n",
       "         4.,  3.,  8.,  5.,  9.,  2.,  1.,  4.,  6.,  7.,  7.,  9.,  2.,\n",
       "         4.,  4.,  4.,  4.,  3.,  3.,  7.,  3.,  1.,  3.,  2.,  6.,  3.,\n",
       "         4.,  1.,  2.,  1.,  3.,  0.,  1.,  1.,  1.,  3.,  2.,  0.,  2.,\n",
       "         1.,  0.,  0.,  1.,  2.,  1.,  1.,  0.,  1.,  0.,  0.,  0.,  0.,\n",
       "         0.,  1.,  0.,  1.,  1.,  0.,  0.,  0.,  1.,  2.,  2.,  1.,  0.,\n",
       "         0.,  1.,  2.,  0.,  0.,  0.,  0.,  0.,  0.,  0.,  0.,  0.,  0.,\n",
       "         0.,  1.,  2.,  0.,  0.,  0.,  0.,  2.,  1.]),\n",
       " array([0.20951  , 0.2162576, 0.2230052, 0.2297528, 0.2365004, 0.243248 ,\n",
       "        0.2499956, 0.2567432, 0.2634908, 0.2702384, 0.276986 , 0.2837336,\n",
       "        0.2904812, 0.2972288, 0.3039764, 0.310724 , 0.3174716, 0.3242192,\n",
       "        0.3309668, 0.3377144, 0.344462 , 0.3512096, 0.3579572, 0.3647048,\n",
       "        0.3714524, 0.3782   , 0.3849476, 0.3916952, 0.3984428, 0.4051904,\n",
       "        0.411938 , 0.4186856, 0.4254332, 0.4321808, 0.4389284, 0.445676 ,\n",
       "        0.4524236, 0.4591712, 0.4659188, 0.4726664, 0.479414 , 0.4861616,\n",
       "        0.4929092, 0.4996568, 0.5064044, 0.513152 , 0.5198996, 0.5266472,\n",
       "        0.5333948, 0.5401424, 0.54689  , 0.5536376, 0.5603852, 0.5671328,\n",
       "        0.5738804, 0.580628 , 0.5873756, 0.5941232, 0.6008708, 0.6076184,\n",
       "        0.614366 , 0.6211136, 0.6278612, 0.6346088, 0.6413564, 0.648104 ,\n",
       "        0.6548516, 0.6615992, 0.6683468, 0.6750944, 0.681842 , 0.6885896,\n",
       "        0.6953372, 0.7020848, 0.7088324, 0.71558  , 0.7223276, 0.7290752,\n",
       "        0.7358228, 0.7425704, 0.749318 , 0.7560656, 0.7628132, 0.7695608,\n",
       "        0.7763084, 0.783056 , 0.7898036, 0.7965512, 0.8032988, 0.8100464,\n",
       "        0.816794 , 0.8235416, 0.8302892, 0.8370368, 0.8437844, 0.850532 ,\n",
       "        0.8572796, 0.8640272, 0.8707748, 0.8775224, 0.88427  ]),\n",
       " <a list of 100 Patch objects>)"
      ]
     },
     "metadata": {},
     "execution_count": 90
    },
    {
     "output_type": "display_data",
     "data": {
      "image/png": "[encoded data removed]",
      "text/plain": [
       "<Figure size 432x288 with 1 Axes>"
      ]
     },
     "metadata": {
      "needs_background": "light"
     }
    }
   ],
   "metadata": {}
  },
  {
   "cell_type": "code",
   "execution_count": 9,
   "source": [
    "#Global best params \n",
    "id_R2 = results['R2'].argsort()[::-1][0]\n",
    "id_skill = results['skill'].argsort()[::-1][0]\n",
    "id_area = results['area'].argsort()[0]\n",
    "id_L2 = results['L2'].argsort()[0]\n",
    "\n",
    "print(\"            kappa             tau_stdp      tau_sr          asymm             frac\")\n",
    "print(\"R2:         %.2f              %.2f          %.2f            %.2f              %.2f\" %(results['kappa'][id_R2].mean(),results['tau_stdp'][id_R2].mean(),results['tau_sr'][id_R2].mean(),results['asymm'][id_R2].mean(),results['frac'][id_R2].mean()))\n",
    "print(\"skill:      %.2f              %.2f          %.2f            %.2f              %.2f\" %(results['kappa'][id_skill].mean(),results['tau_stdp'][id_skill].mean(),results['tau_sr'][id_skill].mean(),results['asymm'][id_skill].mean(),results['frac'][id_skill].mean()))\n",
    "print(\"area:       %.2f              %.2f          %.2f            %.2f              %.2f\" %(results['kappa'][id_area].mean(),results['tau_stdp'][id_area].mean(),results['tau_sr'][id_area].mean(),results['asymm'][id_area].mean(),results['frac'][id_area].mean()))\n",
    "print(\"L2:         %.2f              %.2f          %.2f            %.2f              %.2f\" %(results['kappa'][id_L2].mean(),results['tau_stdp'][id_L2].mean(),results['tau_sr'][id_L2].mean(),results['asymm'][id_L2].mean(),results['frac'][id_L2].mean()))\n",
    "\n",
    "\n",
    "#And for each tau_sr"
   ],
   "outputs": [
    {
     "output_type": "stream",
     "name": "stdout",
     "text": [
      "            kappa             tau_stdp      tau_sr          asymm             frac\n",
      "R2:         2.00              0.02          2.00            0.90              0.80\n",
      "skill:      2.00              0.02          4.00            0.90              0.80\n",
      "area:       0.50              0.03          4.00            0.90              0.60\n",
      "L2:         0.50              0.03          4.00            0.90              0.60\n"
     ]
    }
   ],
   "metadata": {}
  },
  {
   "cell_type": "code",
   "execution_count": 10,
   "source": [
    "top = 5\n",
    "\n",
    "id_R2 = results['R2'].argsort()[::-1][:top]\n",
    "id_skill = results['skill'].argsort()[::-1][:top]\n",
    "id_area = results['area'].argsort()[:top]\n",
    "id_L2 = results['L2'].argsort()[:top]\n",
    "\n",
    "print(\"            kappa             tau_stdp          asymm             frac\")\n",
    "print(\"R2:         %.2f +- %.2f      %.2f +- %.2f      %.2f +- %.2f      %.2f +- %.2f\" %(results['kappa'][id_R2].mean(),results['kappa'][id_R2].std(),results['tau_stdp'][id_R2].mean(),results['tau_stdp'][id_R2].std(),results['asymm'][id_R2].mean(),results['asymm'][id_R2].std(),results['frac'][id_R2].mean(),results['frac'][id_R2].std()))\n",
    "print(\"skill:      %.2f +- %.2f      %.2f +- %.2f      %.2f +- %.2f      %.2f +- %.2f\" %(results['kappa'][id_skill].mean(),results['kappa'][id_skill].std(),results['tau_stdp'][id_skill].mean(),results['tau_stdp'][id_skill].std(),results['asymm'][id_skill].mean(),results['asymm'][id_skill].std(),results['frac'][id_skill].mean(),results['frac'][id_skill].std()))\n",
    "print(\"area:       %.2f +- %.2f      %.2f +- %.2f      %.2f +- %.2f      %.2f +- %.2f\" %(results['kappa'][id_area].mean(),results['kappa'][id_area].std(),results['tau_stdp'][id_area].mean(),results['tau_stdp'][id_area].std(),results['asymm'][id_area].mean(),results['asymm'][id_area].std(),results['frac'][id_area].mean(),results['frac'][id_area].std()))\n",
    "print(\"L2:         %.2f +- %.2f      %.2f +- %.2f      %.2f +- %.2f      %.2f +- %.2f\" %(results['kappa'][id_L2].mean(),results['kappa'][id_L2].std(),results['tau_stdp'][id_L2].mean(),results['tau_stdp'][id_L2].std(),results['asymm'][id_L2].mean(),results['asymm'][id_L2].std(),results['frac'][id_L2].mean(),results['frac'][id_L2].std()))\n"
   ],
   "outputs": [
    {
     "output_type": "stream",
     "name": "stdout",
     "text": [
      "            kappa             tau_stdp          asymm             frac\n",
      "R2:         0.50 +- 0.00      0.03 +- 0.00      0.90 +- 0.00      0.60 +- 0.00\n",
      "skill:      0.50 +- 0.00      0.03 +- 0.00      0.90 +- 0.00      0.62 +- 0.04\n",
      "area:       0.60 +- 0.22      0.03 +- 0.00      0.88 +- 0.04      0.62 +- 0.04\n",
      "L2:         0.50 +- 0.00      0.03 +- 0.00      0.90 +- 0.00      0.62 +- 0.04\n"
     ]
    }
   ],
   "metadata": {}
  },
  {
   "cell_type": "code",
   "execution_count": 32,
   "source": [
    "results['frac'][id_R2].mean()"
   ],
   "outputs": [
    {
     "output_type": "execute_result",
     "data": {
      "text/plain": [
       "0.6799999999999999"
      ]
     },
     "metadata": {},
     "execution_count": 32
    }
   ],
   "metadata": {}
  },
  {
   "cell_type": "code",
   "execution_count": null,
   "source": [],
   "outputs": [],
   "metadata": {}
  }
 ],
 "metadata": {
  "orig_nbformat": 4,
  "language_info": {
   "name": "python",
   "version": "3.6.8",
   "mimetype": "text/x-python",
   "codemirror_mode": {
    "name": "ipython",
    "version": 3
   },
   "pygments_lexer": "ipython3",
   "nbconvert_exporter": "python",
   "file_extension": ".py"
  },
  "kernelspec": {
   "name": "python3",
   "display_name": "Python 3.6.8 64-bit ('base': conda)"
  },
  "interpreter": {
   "hash": "f3907eace6f052eb013976c6c85ca4eed3eb79ab6403c290a85e7d0d6214134d"
  }
 },
 "nbformat": 4,
 "nbformat_minor": 2
}